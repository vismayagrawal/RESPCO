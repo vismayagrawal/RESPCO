{
 "cells": [
  {
   "cell_type": "code",
   "execution_count": null,
   "metadata": {
    "ExecuteTime": {
     "end_time": "2021-09-17T18:38:46.483010Z",
     "start_time": "2021-09-17T18:38:46.463108Z"
    }
   },
   "outputs": [],
   "source": [
    "%load_ext autoreload\n",
    "%autoreload 2"
   ]
  },
  {
   "cell_type": "code",
   "execution_count": null,
   "metadata": {
    "ExecuteTime": {
     "end_time": "2021-09-17T18:38:46.944003Z",
     "start_time": "2021-09-17T18:38:46.932494Z"
    }
   },
   "outputs": [],
   "source": [
    "%cd /home/vagrawal/RVT-CO2/code"
   ]
  },
  {
   "cell_type": "code",
   "execution_count": null,
   "metadata": {
    "ExecuteTime": {
     "end_time": "2021-09-17T18:38:48.487204Z",
     "start_time": "2021-09-17T18:38:47.552735Z"
    }
   },
   "outputs": [],
   "source": [
    "import os\n",
    "import numpy as np\n",
    "import pandas as pd\n",
    "import matplotlib.pyplot as plt\n",
    "\n",
    "import torch\n",
    "from torch.utils.data import DataLoader\n",
    "from torchsummary import summary\n",
    "from models import *\n",
    "from datasets import resp_co2_dataset\n",
    "import seaborn as sns\n",
    "\n",
    "from train_utils import Trainer\n",
    "import utils"
   ]
  },
  {
   "cell_type": "code",
   "execution_count": null,
   "metadata": {
    "cell_style": "split",
    "deletable": false,
    "editable": false,
    "run_control": {
     "frozen": true
    }
   },
   "outputs": [],
   "source": [
    "%matplotlib notebook\n",
    "plt.rcParams[\"figure.figsize\"] = [9,4]"
   ]
  },
  {
   "cell_type": "code",
   "execution_count": null,
   "metadata": {
    "ExecuteTime": {
     "end_time": "2021-09-17T18:38:48.866346Z",
     "start_time": "2021-09-17T18:38:48.844879Z"
    },
    "cell_style": "split"
   },
   "outputs": [],
   "source": [
    "%matplotlib inline\n",
    "plt.rcParams[\"figure.figsize\"] = [16,4]"
   ]
  },
  {
   "cell_type": "code",
   "execution_count": null,
   "metadata": {
    "ExecuteTime": {
     "end_time": "2021-09-17T18:38:50.783002Z",
     "start_time": "2021-09-17T18:38:50.758724Z"
    }
   },
   "outputs": [],
   "source": [
    "def stats_bean_plot(corr_stats):\n",
    "    corr_stats_copy = corr_stats.copy()    \n",
    "    del corr_stats_copy['mape_co2'], corr_stats_copy['z_co2'], corr_stats_copy['z_petco2']\n",
    "    df_stats = pd.DataFrame.from_dict(corr_stats_copy)\n",
    "    sns.violinplot(data = pd.DataFrame.from_dict(corr_stats_copy))"
   ]
  },
  {
   "cell_type": "code",
   "execution_count": null,
   "metadata": {
    "ExecuteTime": {
     "end_time": "2021-09-17T18:38:55.187845Z",
     "start_time": "2021-09-17T18:38:55.161827Z"
    }
   },
   "outputs": [],
   "source": [
    "dict_stats = {\"split_and_model_name\": [],\n",
    "                \"mean_corr_co2\" : [],\n",
    "                \"mean_corr_petco2\" : [],\n",
    "                \"mean_z_co2\" : [],\n",
    "                \"mean_z_petco2\" : [],\n",
    "                \"mean_mse_co2\" : [],\n",
    "                \"mean_mse_petco2\" : [],\n",
    "                \"mean_mae_co2\" : [],\n",
    "                \"mean_mae_petco2\" : [],\n",
    "                \"mean_mape_co2\" : [],\n",
    "                \"mean_mape_petco2\" : [],\n",
    "                \"std_corr_co2\" : [],\n",
    "                \"std_corr_petco2\" : [],\n",
    "                \"std_z_co2\" : [],\n",
    "                \"std_z_petco2\" : [],\n",
    "                \"std_mse_co2\" : [],\n",
    "                \"std_mse_petco2\" : [],\n",
    "                \"std_mae_co2\" : [],\n",
    "                \"std_mae_petco2\" : [],\n",
    "                \"std_mape_co2\" : [],\n",
    "                \"std_mape_petco2\" : [],}\n",
    "\n",
    "def add_mean_std_stats(current_model_name, corr_stats):\n",
    "    current_split_and_model_name = str(data_split_number) + '-' + current_model_name\n",
    "    if current_split_and_model_name not in dict_stats[f\"split_and_model_name\"]:\n",
    "        dict_stats[\"split_and_model_name\"].append(current_split_and_model_name) \n",
    "        for key, value in corr_stats.items():\n",
    "            dict_stats[f'mean_{key}'].append(round(np.mean(value), 3)) \n",
    "            dict_stats[f'std_{key}'].append(round(np.std(value), 3))"
   ]
  },
  {
   "cell_type": "markdown",
   "metadata": {
    "ExecuteTime": {
     "end_time": "2020-10-02T09:36:29.302779Z",
     "start_time": "2020-10-02T09:36:29.299120Z"
    }
   },
   "source": [
    "# dataloader"
   ]
  },
  {
   "cell_type": "code",
   "execution_count": null,
   "metadata": {
    "ExecuteTime": {
     "end_time": "2021-06-28T00:43:05.403015Z",
     "start_time": "2021-06-28T00:43:05.380226Z"
    },
    "run_control": {
     "marked": false
    }
   },
   "outputs": [],
   "source": [
    "baycrest_root = '/home/vagrawal/RVT-CO2/data/raw_physio_backup-biopac-20180417/preprocessed'\n",
    "data_split_number = 1\n",
    "txt_root = os.path.join(baycrest_root, 'splits_train_test', str(data_split_number))\n",
    "apply_co2_norm = True"
   ]
  },
  {
   "cell_type": "code",
   "execution_count": null,
   "metadata": {
    "ExecuteTime": {
     "end_time": "2021-06-28T00:43:06.012185Z",
     "start_time": "2021-06-28T00:43:05.992923Z"
    }
   },
   "outputs": [],
   "source": [
    "dataloader_train = resp_co2_dataset(txt_root, resp_filename = 'resp_train.txt', co2_filename = 'co2_train.txt',apply_co2_norm=apply_co2_norm)\n",
    "# dataloader_val = resp_co2_dataset(txt_root, resp_filename = 'resp_val.txt', co2_filename = 'co2_val.txt',apply_co2_norm=apply_co2_norm)\n",
    "dataloader_test = resp_co2_dataset(txt_root, resp_filename = 'resp_test.txt', co2_filename = 'co2_test.txt',apply_co2_norm=apply_co2_norm)\n",
    "\n",
    "dataloader_all = resp_co2_dataset(os.path.join(baycrest_root, 'splits_train_test')\n",
    "                                  , resp_filename = 'resp_all_filenames.txt', co2_filename = 'co2_all_filenames.txt',apply_co2_norm=apply_co2_norm)\n",
    "\n",
    "dataloaders = {\n",
    "    'train':DataLoader(dataloader_train, batch_size=1, shuffle=True),\n",
    "#     'val':DataLoader(dataloader_val, batch_size=1, shuffle=True),\n",
    "    'test':DataLoader(dataloader_test, batch_size=1, shuffle=False),\n",
    "    'all':DataLoader(dataloader_all, batch_size=1, shuffle=False)\n",
    "}"
   ]
  },
  {
   "cell_type": "markdown",
   "metadata": {},
   "source": [
    "# Save model paths"
   ]
  },
  {
   "cell_type": "code",
   "execution_count": null,
   "metadata": {
    "ExecuteTime": {
     "end_time": "2021-06-28T00:43:27.047858Z",
     "start_time": "2021-06-28T00:43:27.024762Z"
    }
   },
   "outputs": [],
   "source": [
    "# Config\n",
    "train_models = False\n",
    "save_models = False\n",
    "save_logs = False\n",
    "load_models = True\n",
    "split_number = data_split_number ### the spilt for model is same as split for data\n",
    "phases_train = ['train', 'test']\n",
    "phases_test = ['test']\n",
    "\n",
    "date = '20201011_baycrest'\n",
    "save_root = os.path.join('./saved_models', date)\n",
    "save_log_root = os.path.join('./saved_logs', date)"
   ]
  },
  {
   "cell_type": "markdown",
   "metadata": {},
   "source": [
    "# Linear Regression without tanh"
   ]
  },
  {
   "cell_type": "code",
   "execution_count": null,
   "metadata": {
    "ExecuteTime": {
     "end_time": "2021-06-28T00:43:28.013089Z",
     "start_time": "2021-06-28T00:43:27.994819Z"
    }
   },
   "outputs": [],
   "source": [
    "current_model_name = 'linear_without_tanh'\n",
    "current_model = linear_without_tanh(in_channels=1, out_channels=1)\n",
    "save_dir = os.path.join(save_root, current_model_name)\n",
    "save_path = os.path.join(save_dir, f'{split_number}.pth.gz')"
   ]
  },
  {
   "cell_type": "code",
   "execution_count": null,
   "metadata": {
    "ExecuteTime": {
     "end_time": "2021-06-28T00:43:28.601227Z",
     "start_time": "2021-06-28T00:43:28.574387Z"
    }
   },
   "outputs": [],
   "source": [
    "optimizer_lr = 0.01\n",
    "net = Trainer(current_model, dataloaders, optimizer_lr)\n",
    "print(net.nnArchitecture)\n",
    "if load_models:\n",
    "    net.load_model(save_path)"
   ]
  },
  {
   "cell_type": "code",
   "execution_count": null,
   "metadata": {
    "ExecuteTime": {
     "end_time": "2021-06-28T00:43:29.234265Z",
     "start_time": "2021-06-28T00:43:29.217163Z"
    },
    "scrolled": true
   },
   "outputs": [],
   "source": [
    "if train_models:\n",
    "    num_epochs = 15\n",
    "    loss = net.nnTrain(num_epochs, lossFunction=torch.nn.MSELoss(), phases=phases_train, plot_after_epoch=(False, 2))"
   ]
  },
  {
   "cell_type": "code",
   "execution_count": null,
   "metadata": {
    "ExecuteTime": {
     "end_time": "2021-06-28T00:43:11.264306Z",
     "start_time": "2021-06-28T00:43:11.251443Z"
    }
   },
   "outputs": [],
   "source": [
    "add_mean_std_stats(current_model_name, corr_stats)"
   ]
  },
  {
   "cell_type": "code",
   "execution_count": null,
   "metadata": {
    "ExecuteTime": {
     "end_time": "2021-06-27T23:36:24.564278Z",
     "start_time": "2021-06-27T23:36:24.552211Z"
    }
   },
   "outputs": [],
   "source": [
    "if save_logs:\n",
    "    save_log_dir = os.path.join(save_log_root, current_model_name)\n",
    "    save_log_path = os.path.join(save_log_dir, f'{split_number}.npy')\n",
    "    os.makedirs(save_log_dir, exist_ok=True)\n",
    "    np.save(save_log_path,corr_stats)"
   ]
  },
  {
   "cell_type": "code",
   "execution_count": null,
   "metadata": {
    "ExecuteTime": {
     "end_time": "2021-06-27T23:36:24.576030Z",
     "start_time": "2021-06-27T23:36:24.565308Z"
    }
   },
   "outputs": [],
   "source": [
    "if save_models:\n",
    "    os.makedirs(save_dir, exist_ok=True)\n",
    "    net.save_model(save_path)"
   ]
  },
  {
   "cell_type": "markdown",
   "metadata": {},
   "source": [
    "# Linear Regression with tanh"
   ]
  },
  {
   "cell_type": "code",
   "execution_count": null,
   "metadata": {
    "ExecuteTime": {
     "end_time": "2021-06-27T23:36:24.592304Z",
     "start_time": "2021-06-27T23:36:24.577037Z"
    }
   },
   "outputs": [],
   "source": [
    "current_model_name = 'linear_with_tanh'\n",
    "current_model = linear_with_tanh(in_channels=1, out_channels=1)\n",
    "save_dir = os.path.join(save_root, current_model_name)\n",
    "save_path = os.path.join(save_dir, f'{split_number}.pth.gz')"
   ]
  },
  {
   "cell_type": "code",
   "execution_count": null,
   "metadata": {
    "ExecuteTime": {
     "end_time": "2021-06-27T23:36:24.605694Z",
     "start_time": "2021-06-27T23:36:24.593239Z"
    }
   },
   "outputs": [],
   "source": [
    "optimizer_lr = 0.01\n",
    "net = Trainer(current_model, dataloaders, optimizer_lr)\n",
    "print(net.nnArchitecture)\n",
    "if load_models:\n",
    "    net.load_model(save_path)"
   ]
  },
  {
   "cell_type": "code",
   "execution_count": null,
   "metadata": {
    "ExecuteTime": {
     "end_time": "2021-06-27T23:36:24.617546Z",
     "start_time": "2021-06-27T23:36:24.606828Z"
    },
    "scrolled": true
   },
   "outputs": [],
   "source": [
    "if train_models:\n",
    "    num_epochs = 15\n",
    "    loss = net.nnTrain(num_epochs, lossFunction=torch.nn.MSELoss(), phases=phases_train, plot_after_epoch=(False, 2))"
   ]
  },
  {
   "cell_type": "code",
   "execution_count": null,
   "metadata": {
    "ExecuteTime": {
     "end_time": "2021-06-27T23:36:25.517798Z",
     "start_time": "2021-06-27T23:36:25.501697Z"
    }
   },
   "outputs": [],
   "source": [
    "add_mean_std_stats(current_model_name, corr_stats)"
   ]
  },
  {
   "cell_type": "code",
   "execution_count": null,
   "metadata": {
    "ExecuteTime": {
     "end_time": "2021-06-27T23:36:25.713778Z",
     "start_time": "2021-06-27T23:36:25.701762Z"
    }
   },
   "outputs": [],
   "source": [
    "if save_logs:\n",
    "    save_log_dir = os.path.join(save_log_root, current_model_name)\n",
    "    save_log_path = os.path.join(save_log_dir, f'{split_number}.npy')\n",
    "    os.makedirs(save_log_dir, exist_ok=True)\n",
    "    np.save(save_log_path,corr_stats)"
   ]
  },
  {
   "cell_type": "code",
   "execution_count": null,
   "metadata": {
    "ExecuteTime": {
     "end_time": "2021-06-27T23:36:25.726990Z",
     "start_time": "2021-06-27T23:36:25.714764Z"
    }
   },
   "outputs": [],
   "source": [
    "if save_models:\n",
    "    os.makedirs(save_dir, exist_ok=True)\n",
    "    net.save_model(save_path)"
   ]
  },
  {
   "cell_type": "markdown",
   "metadata": {},
   "source": [
    "# For 1 layer NN"
   ]
  },
  {
   "cell_type": "code",
   "execution_count": null,
   "metadata": {
    "ExecuteTime": {
     "end_time": "2021-06-27T23:36:25.739020Z",
     "start_time": "2021-06-27T23:36:25.727906Z"
    }
   },
   "outputs": [],
   "source": [
    "current_model_name = 'conv_1_layer'\n",
    "current_model = conv_1_layer(in_channels=1, out_channels=1)\n",
    "save_dir = os.path.join(save_root, current_model_name)\n",
    "save_path = os.path.join(save_dir, f'{split_number}.pth.gz')"
   ]
  },
  {
   "cell_type": "code",
   "execution_count": null,
   "metadata": {
    "ExecuteTime": {
     "end_time": "2021-06-27T23:36:25.756529Z",
     "start_time": "2021-06-27T23:36:25.739930Z"
    }
   },
   "outputs": [],
   "source": [
    "optimizer_lr = 0.01\n",
    "net = Trainer(current_model, dataloaders, optimizer_lr)\n",
    "print(net.nnArchitecture)\n",
    "if load_models:\n",
    "    net.load_model(save_path)"
   ]
  },
  {
   "cell_type": "code",
   "execution_count": null,
   "metadata": {
    "ExecuteTime": {
     "end_time": "2021-06-27T23:36:25.768058Z",
     "start_time": "2021-06-27T23:36:25.757497Z"
    },
    "scrolled": true
   },
   "outputs": [],
   "source": [
    "if train_models:\n",
    "    num_epochs = 15\n",
    "    loss = net.nnTrain(num_epochs, lossFunction=torch.nn.MSELoss(), phases=phases_train, plot_after_epoch=(False, 2))"
   ]
  },
  {
   "cell_type": "code",
   "execution_count": null,
   "metadata": {
    "ExecuteTime": {
     "end_time": "2021-06-27T23:36:26.755389Z",
     "start_time": "2021-06-27T23:36:26.743546Z"
    }
   },
   "outputs": [],
   "source": [
    "add_mean_std_stats(current_model_name, corr_stats)"
   ]
  },
  {
   "cell_type": "code",
   "execution_count": null,
   "metadata": {
    "ExecuteTime": {
     "end_time": "2021-06-27T23:36:26.946621Z",
     "start_time": "2021-06-27T23:36:26.935204Z"
    }
   },
   "outputs": [],
   "source": [
    "if save_logs:\n",
    "    save_log_dir = os.path.join(save_log_root, current_model_name)\n",
    "    save_log_path = os.path.join(save_log_dir, f'{split_number}.npy')\n",
    "    os.makedirs(save_log_dir, exist_ok=True)\n",
    "    np.save(save_log_path,corr_stats)"
   ]
  },
  {
   "cell_type": "code",
   "execution_count": null,
   "metadata": {
    "ExecuteTime": {
     "end_time": "2021-06-27T23:36:26.957003Z",
     "start_time": "2021-06-27T23:36:26.947521Z"
    }
   },
   "outputs": [],
   "source": [
    "if save_models:\n",
    "    os.makedirs(save_dir, exist_ok=True)\n",
    "    net.save_model(save_path)"
   ]
  },
  {
   "cell_type": "markdown",
   "metadata": {},
   "source": [
    "# For 2 layer NN"
   ]
  },
  {
   "cell_type": "code",
   "execution_count": null,
   "metadata": {
    "ExecuteTime": {
     "end_time": "2021-06-27T23:36:26.967926Z",
     "start_time": "2021-06-27T23:36:26.957911Z"
    }
   },
   "outputs": [],
   "source": [
    "current_model_name = 'conv_2_layer'\n",
    "current_model = conv_2_layer(in_channels=1, out_channels=1)\n",
    "save_dir = os.path.join(save_root, current_model_name)\n",
    "save_path = os.path.join(save_dir, f'{split_number}.pth.gz')"
   ]
  },
  {
   "cell_type": "code",
   "execution_count": null,
   "metadata": {
    "ExecuteTime": {
     "end_time": "2021-06-27T23:36:27.003624Z",
     "start_time": "2021-06-27T23:36:26.968873Z"
    }
   },
   "outputs": [],
   "source": [
    "optimizer_lr = 0.01\n",
    "net = Trainer(current_model, dataloaders, optimizer_lr)\n",
    "summary(net.nnArchitecture, (1,800))\n",
    "if load_models:\n",
    "    net.load_model(save_path)"
   ]
  },
  {
   "cell_type": "code",
   "execution_count": null,
   "metadata": {
    "ExecuteTime": {
     "end_time": "2021-06-27T23:36:27.018242Z",
     "start_time": "2021-06-27T23:36:27.005043Z"
    },
    "scrolled": true
   },
   "outputs": [],
   "source": [
    "if train_models:\n",
    "    num_epochs = 15\n",
    "    loss = net.nnTrain(num_epochs, lossFunction=torch.nn.MSELoss(), phases=phases_train, plot_after_epoch=(False, 2))"
   ]
  },
  {
   "cell_type": "code",
   "execution_count": null,
   "metadata": {
    "ExecuteTime": {
     "end_time": "2021-06-27T23:36:27.974544Z",
     "start_time": "2021-06-27T23:36:27.962708Z"
    }
   },
   "outputs": [],
   "source": [
    "add_mean_std_stats(current_model_name, corr_stats)"
   ]
  },
  {
   "cell_type": "code",
   "execution_count": null,
   "metadata": {
    "ExecuteTime": {
     "end_time": "2021-06-27T23:36:28.166577Z",
     "start_time": "2021-06-27T23:36:28.155074Z"
    }
   },
   "outputs": [],
   "source": [
    "if save_logs:\n",
    "    save_log_dir = os.path.join(save_log_root, current_model_name)\n",
    "    save_log_path = os.path.join(save_log_dir, f'{split_number}.npy')\n",
    "    os.makedirs(save_log_dir, exist_ok=True)\n",
    "    np.save(save_log_path,corr_stats)"
   ]
  },
  {
   "cell_type": "code",
   "execution_count": null,
   "metadata": {
    "ExecuteTime": {
     "end_time": "2021-06-27T23:36:28.177289Z",
     "start_time": "2021-06-27T23:36:28.167570Z"
    }
   },
   "outputs": [],
   "source": [
    "if save_models:\n",
    "    os.makedirs(save_dir, exist_ok=True)\n",
    "    net.save_model(save_path)"
   ]
  },
  {
   "cell_type": "markdown",
   "metadata": {},
   "source": [
    "# For 4 layer NN"
   ]
  },
  {
   "cell_type": "code",
   "execution_count": null,
   "metadata": {
    "ExecuteTime": {
     "end_time": "2021-06-27T23:36:28.189084Z",
     "start_time": "2021-06-27T23:36:28.178272Z"
    }
   },
   "outputs": [],
   "source": [
    "current_model_name = 'conv_4_layer'\n",
    "current_model = conv_4_layer(in_channels=1, out_channels=1)\n",
    "save_dir = os.path.join(save_root, current_model_name)\n",
    "save_path = os.path.join(save_dir, f'{split_number}.pth.gz')"
   ]
  },
  {
   "cell_type": "code",
   "execution_count": null,
   "metadata": {
    "ExecuteTime": {
     "end_time": "2021-06-27T23:36:28.208894Z",
     "start_time": "2021-06-27T23:36:28.190093Z"
    }
   },
   "outputs": [],
   "source": [
    "optimizer_lr = 0.01\n",
    "net = Trainer(current_model, dataloaders, optimizer_lr)\n",
    "summary(net.nnArchitecture, (1,800))\n",
    "if load_models:\n",
    "    net.load_model(save_path)"
   ]
  },
  {
   "cell_type": "code",
   "execution_count": null,
   "metadata": {
    "ExecuteTime": {
     "end_time": "2021-06-27T23:36:28.219934Z",
     "start_time": "2021-06-27T23:36:28.209938Z"
    }
   },
   "outputs": [],
   "source": [
    "if train_models:\n",
    "    num_epochs = 15\n",
    "    loss = net.nnTrain(num_epochs, lossFunction=torch.nn.MSELoss(), phases=phases_train, plot_after_epoch=(False, 2))"
   ]
  },
  {
   "cell_type": "code",
   "execution_count": null,
   "metadata": {
    "ExecuteTime": {
     "end_time": "2021-06-27T23:36:29.315698Z",
     "start_time": "2021-06-27T23:36:29.303849Z"
    }
   },
   "outputs": [],
   "source": [
    "add_mean_std_stats(current_model_name, corr_stats)"
   ]
  },
  {
   "cell_type": "code",
   "execution_count": null,
   "metadata": {
    "ExecuteTime": {
     "end_time": "2021-06-27T23:36:29.505988Z",
     "start_time": "2021-06-27T23:36:29.494259Z"
    }
   },
   "outputs": [],
   "source": [
    "if save_logs:\n",
    "    save_log_dir = os.path.join(save_log_root, current_model_name)\n",
    "    save_log_path = os.path.join(save_log_dir, f'{split_number}.npy')\n",
    "    os.makedirs(save_log_dir, exist_ok=True)\n",
    "    np.save(save_log_path,corr_stats)"
   ]
  },
  {
   "cell_type": "code",
   "execution_count": null,
   "metadata": {
    "ExecuteTime": {
     "end_time": "2021-06-27T23:36:29.516504Z",
     "start_time": "2021-06-27T23:36:29.506963Z"
    }
   },
   "outputs": [],
   "source": [
    "if save_models:\n",
    "    os.makedirs(save_dir, exist_ok=True)\n",
    "    net.save_model(save_path)"
   ]
  },
  {
   "cell_type": "markdown",
   "metadata": {},
   "source": [
    "# For 6 layes NN"
   ]
  },
  {
   "cell_type": "code",
   "execution_count": null,
   "metadata": {
    "ExecuteTime": {
     "end_time": "2021-06-27T23:36:29.528339Z",
     "start_time": "2021-06-27T23:36:29.517463Z"
    }
   },
   "outputs": [],
   "source": [
    "current_model_name = 'conv_6_layer'\n",
    "current_model = conv_6_layer(in_channels=1, out_channels=1)\n",
    "save_dir = os.path.join(save_root, current_model_name)\n",
    "save_path = os.path.join(save_dir, f'{split_number}.pth.gz')"
   ]
  },
  {
   "cell_type": "code",
   "execution_count": null,
   "metadata": {
    "ExecuteTime": {
     "end_time": "2021-06-27T23:36:29.551574Z",
     "start_time": "2021-06-27T23:36:29.529223Z"
    }
   },
   "outputs": [],
   "source": [
    "optimizer_lr = 0.005\n",
    "net = Trainer(current_model, dataloaders, optimizer_lr)\n",
    "summary(net.nnArchitecture, (1,3000))\n",
    "if load_models:\n",
    "    net.load_model(save_path)"
   ]
  },
  {
   "cell_type": "code",
   "execution_count": null,
   "metadata": {
    "ExecuteTime": {
     "end_time": "2021-06-27T23:36:29.563078Z",
     "start_time": "2021-06-27T23:36:29.552503Z"
    }
   },
   "outputs": [],
   "source": [
    "if train_models:\n",
    "    num_epochs = 15\n",
    "    loss = net.nnTrain(num_epochs, lossFunction=torch.nn.MSELoss(), phases=phases_train, plot_after_epoch=(False, 2))"
   ]
  },
  {
   "cell_type": "code",
   "execution_count": null,
   "metadata": {
    "ExecuteTime": {
     "end_time": "2021-06-27T23:36:30.697330Z",
     "start_time": "2021-06-27T23:36:30.685388Z"
    }
   },
   "outputs": [],
   "source": [
    "add_mean_std_stats(current_model_name, corr_stats)"
   ]
  },
  {
   "cell_type": "code",
   "execution_count": null,
   "metadata": {
    "ExecuteTime": {
     "end_time": "2021-06-27T23:36:30.885730Z",
     "start_time": "2021-06-27T23:36:30.874255Z"
    }
   },
   "outputs": [],
   "source": [
    "if save_logs:\n",
    "    save_log_dir = os.path.join(save_log_root, current_model_name)\n",
    "    save_log_path = os.path.join(save_log_dir, f'{split_number}.npy')\n",
    "    os.makedirs(save_log_dir, exist_ok=True)\n",
    "    np.save(save_log_path,corr_stats)"
   ]
  },
  {
   "cell_type": "code",
   "execution_count": null,
   "metadata": {
    "ExecuteTime": {
     "end_time": "2021-06-27T23:36:30.896106Z",
     "start_time": "2021-06-27T23:36:30.886693Z"
    }
   },
   "outputs": [],
   "source": [
    "if save_models:\n",
    "    os.makedirs(save_dir, exist_ok=True)\n",
    "    net.save_model(save_path)"
   ]
  },
  {
   "cell_type": "markdown",
   "metadata": {},
   "source": [
    "# Weighted Loss Function"
   ]
  },
  {
   "cell_type": "markdown",
   "metadata": {},
   "source": [
    "## For 1 layer NN with weighted loss function"
   ]
  },
  {
   "cell_type": "code",
   "execution_count": null,
   "metadata": {
    "ExecuteTime": {
     "end_time": "2021-06-27T23:36:30.909436Z",
     "start_time": "2021-06-27T23:36:30.897119Z"
    }
   },
   "outputs": [],
   "source": [
    "current_model_name = 'conv_1_layer_weightedLoss'\n",
    "current_model = conv_1_layer(in_channels=1, out_channels=1)\n",
    "save_dir = os.path.join(save_root, current_model_name)\n",
    "save_path = os.path.join(save_dir, f'{split_number}.pth.gz')"
   ]
  },
  {
   "cell_type": "code",
   "execution_count": null,
   "metadata": {
    "ExecuteTime": {
     "end_time": "2021-06-27T23:36:30.922681Z",
     "start_time": "2021-06-27T23:36:30.910363Z"
    }
   },
   "outputs": [],
   "source": [
    "optimizer_lr = 0.01\n",
    "net = Trainer(current_model, dataloaders, optimizer_lr)\n",
    "print(net.nnArchitecture)\n",
    "if load_models:\n",
    "    net.load_model(save_path)"
   ]
  },
  {
   "cell_type": "code",
   "execution_count": null,
   "metadata": {
    "ExecuteTime": {
     "end_time": "2021-06-27T23:36:30.933921Z",
     "start_time": "2021-06-27T23:36:30.923674Z"
    },
    "scrolled": true
   },
   "outputs": [],
   "source": [
    "if train_models:\n",
    "    num_epochs = 15\n",
    "    loss = net.nnTrain_peaks(num_epochs, lossFunction=torch.nn.MSELoss(), phases=phases_train, plot_after_epoch=(False, 2))"
   ]
  },
  {
   "cell_type": "code",
   "execution_count": null,
   "metadata": {
    "ExecuteTime": {
     "end_time": "2021-06-27T23:36:31.884355Z",
     "start_time": "2021-06-27T23:36:31.872451Z"
    }
   },
   "outputs": [],
   "source": [
    "add_mean_std_stats(current_model_name, corr_stats)"
   ]
  },
  {
   "cell_type": "code",
   "execution_count": null,
   "metadata": {
    "ExecuteTime": {
     "end_time": "2021-06-27T23:36:32.082543Z",
     "start_time": "2021-06-27T23:36:32.070974Z"
    }
   },
   "outputs": [],
   "source": [
    "if save_logs:\n",
    "    save_log_dir = os.path.join(save_log_root, current_model_name)\n",
    "    save_log_path = os.path.join(save_log_dir, f'{split_number}.npy')\n",
    "    os.makedirs(save_log_dir, exist_ok=True)\n",
    "    np.save(save_log_path,corr_stats)"
   ]
  },
  {
   "cell_type": "code",
   "execution_count": null,
   "metadata": {
    "ExecuteTime": {
     "end_time": "2021-06-27T23:36:32.093298Z",
     "start_time": "2021-06-27T23:36:32.083658Z"
    }
   },
   "outputs": [],
   "source": [
    "if save_models:\n",
    "    os.makedirs(save_dir, exist_ok=True)\n",
    "    net.save_model(save_path)"
   ]
  },
  {
   "cell_type": "markdown",
   "metadata": {},
   "source": [
    "## For 2 layer NN with weighted loss function"
   ]
  },
  {
   "cell_type": "code",
   "execution_count": null,
   "metadata": {
    "ExecuteTime": {
     "end_time": "2021-06-27T23:36:32.108450Z",
     "start_time": "2021-06-27T23:36:32.094329Z"
    }
   },
   "outputs": [],
   "source": [
    "current_model_name = 'conv_2_layer_weightedLoss'\n",
    "current_model = conv_2_layer(in_channels=1, out_channels=1)\n",
    "save_dir = os.path.join(save_root, current_model_name)\n",
    "save_path = os.path.join(save_dir, f'{split_number}.pth.gz')"
   ]
  },
  {
   "cell_type": "code",
   "execution_count": null,
   "metadata": {
    "ExecuteTime": {
     "end_time": "2021-06-27T23:36:32.128734Z",
     "start_time": "2021-06-27T23:36:32.109922Z"
    }
   },
   "outputs": [],
   "source": [
    "optimizer_lr = 0.01\n",
    "net = Trainer(current_model, dataloaders, optimizer_lr)\n",
    "summary(net.nnArchitecture, (1,800))\n",
    "if load_models:\n",
    "    net.load_model(save_path)"
   ]
  },
  {
   "cell_type": "code",
   "execution_count": null,
   "metadata": {
    "ExecuteTime": {
     "end_time": "2021-06-27T23:36:32.140669Z",
     "start_time": "2021-06-27T23:36:32.129755Z"
    },
    "scrolled": true
   },
   "outputs": [],
   "source": [
    "if train_models:\n",
    "    num_epochs = 15\n",
    "    loss = net.nnTrain_peaks(num_epochs, lossFunction=torch.nn.MSELoss(), phases=phases_train, plot_after_epoch=(False, 2))"
   ]
  },
  {
   "cell_type": "code",
   "execution_count": null,
   "metadata": {
    "ExecuteTime": {
     "end_time": "2021-06-27T23:36:33.110187Z",
     "start_time": "2021-06-27T23:36:33.098166Z"
    }
   },
   "outputs": [],
   "source": [
    "add_mean_std_stats(current_model_name, corr_stats)"
   ]
  },
  {
   "cell_type": "code",
   "execution_count": null,
   "metadata": {
    "ExecuteTime": {
     "end_time": "2021-06-27T23:36:33.353124Z",
     "start_time": "2021-06-27T23:36:33.341297Z"
    }
   },
   "outputs": [],
   "source": [
    "if save_logs:\n",
    "    save_log_dir = os.path.join(save_log_root, current_model_name)\n",
    "    save_log_path = os.path.join(save_log_dir, f'{split_number}.npy')\n",
    "    os.makedirs(save_log_dir, exist_ok=True)\n",
    "    np.save(save_log_path,corr_stats)"
   ]
  },
  {
   "cell_type": "code",
   "execution_count": null,
   "metadata": {
    "ExecuteTime": {
     "end_time": "2021-06-27T23:36:33.363960Z",
     "start_time": "2021-06-27T23:36:33.354142Z"
    }
   },
   "outputs": [],
   "source": [
    "if save_models:\n",
    "    os.makedirs(save_dir, exist_ok=True)\n",
    "    net.save_model(save_path)"
   ]
  },
  {
   "cell_type": "markdown",
   "metadata": {},
   "source": [
    "## For 4 layer NN with weighted loss function"
   ]
  },
  {
   "cell_type": "code",
   "execution_count": null,
   "metadata": {
    "ExecuteTime": {
     "end_time": "2021-06-27T23:36:33.375095Z",
     "start_time": "2021-06-27T23:36:33.364882Z"
    }
   },
   "outputs": [],
   "source": [
    "current_model_name = 'conv_4_layer_weightedLoss'\n",
    "current_model = conv_4_layer(in_channels=1, out_channels=1)\n",
    "save_dir = os.path.join(save_root, current_model_name)\n",
    "save_path = os.path.join(save_dir, f'{split_number}.pth.gz')"
   ]
  },
  {
   "cell_type": "code",
   "execution_count": null,
   "metadata": {
    "ExecuteTime": {
     "end_time": "2021-06-27T23:36:33.388976Z",
     "start_time": "2021-06-27T23:36:33.375977Z"
    },
    "scrolled": false
   },
   "outputs": [],
   "source": [
    "optimizer_lr = 0.005\n",
    "net = Trainer(current_model, dataloaders, optimizer_lr)\n",
    "# summary(net.nnArchitecture, (1,3000))\n",
    "if load_models:\n",
    "    net.load_model(save_path)"
   ]
  },
  {
   "cell_type": "code",
   "execution_count": null,
   "metadata": {
    "ExecuteTime": {
     "end_time": "2021-06-27T23:36:33.401736Z",
     "start_time": "2021-06-27T23:36:33.389979Z"
    }
   },
   "outputs": [],
   "source": [
    "if train_models:\n",
    "    num_epochs = 1\n",
    "    loss = net.nnTrain_peaks(num_epochs, lossFunction=torch.nn.MSELoss(), phases=phases_train, plot_after_epoch=(False, 2))"
   ]
  },
  {
   "cell_type": "code",
   "execution_count": null,
   "metadata": {
    "ExecuteTime": {
     "end_time": "2021-06-27T23:36:34.511777Z",
     "start_time": "2021-06-27T23:36:34.499383Z"
    }
   },
   "outputs": [],
   "source": [
    "add_mean_std_stats(current_model_name, corr_stats)"
   ]
  },
  {
   "cell_type": "code",
   "execution_count": null,
   "metadata": {
    "ExecuteTime": {
     "end_time": "2021-06-27T23:36:34.700196Z",
     "start_time": "2021-06-27T23:36:34.688597Z"
    }
   },
   "outputs": [],
   "source": [
    "if save_logs:\n",
    "    save_log_dir = os.path.join(save_log_root, current_model_name)\n",
    "    save_log_path = os.path.join(save_log_dir, f'{split_number}.npy')\n",
    "    os.makedirs(save_log_dir, exist_ok=True)\n",
    "    np.save(save_log_path,corr_stats)"
   ]
  },
  {
   "cell_type": "code",
   "execution_count": null,
   "metadata": {
    "ExecuteTime": {
     "end_time": "2021-06-27T23:36:34.711278Z",
     "start_time": "2021-06-27T23:36:34.701311Z"
    }
   },
   "outputs": [],
   "source": [
    "if save_models:\n",
    "    os.makedirs(save_dir, exist_ok=True)\n",
    "    net.save_model(save_path)"
   ]
  },
  {
   "cell_type": "markdown",
   "metadata": {},
   "source": [
    "## Weighted 6 layers NN"
   ]
  },
  {
   "cell_type": "code",
   "execution_count": null,
   "metadata": {
    "ExecuteTime": {
     "end_time": "2021-06-27T23:36:34.722890Z",
     "start_time": "2021-06-27T23:36:34.712292Z"
    }
   },
   "outputs": [],
   "source": [
    "current_model_name = 'conv_6_layer_weightedLoss'\n",
    "current_model = conv_6_layer(in_channels=1, out_channels=1)\n",
    "save_dir = os.path.join(save_root, current_model_name)\n",
    "save_path = os.path.join(save_dir, f'{split_number}.pth.gz')"
   ]
  },
  {
   "cell_type": "code",
   "execution_count": null,
   "metadata": {
    "ExecuteTime": {
     "end_time": "2021-06-27T23:36:34.737765Z",
     "start_time": "2021-06-27T23:36:34.723819Z"
    }
   },
   "outputs": [],
   "source": [
    "optimizer_lr = 0.005\n",
    "net = Trainer(current_model, dataloaders, optimizer_lr)\n",
    "if load_models:\n",
    "    net.load_model(save_path)"
   ]
  },
  {
   "cell_type": "code",
   "execution_count": null,
   "metadata": {
    "ExecuteTime": {
     "end_time": "2021-06-27T23:36:34.748194Z",
     "start_time": "2021-06-27T23:36:34.738662Z"
    }
   },
   "outputs": [],
   "source": [
    "if train_models:\n",
    "    num_epochs = 15\n",
    "    loss = net.nnTrain_peaks(num_epochs, lossFunction=torch.nn.MSELoss(), phases=phases_train, plot_after_epoch=(False, 2))"
   ]
  },
  {
   "cell_type": "code",
   "execution_count": null,
   "metadata": {
    "ExecuteTime": {
     "end_time": "2021-06-27T23:36:35.879253Z",
     "start_time": "2021-06-27T23:36:35.867233Z"
    }
   },
   "outputs": [],
   "source": [
    "add_mean_std_stats(current_model_name, corr_stats)"
   ]
  },
  {
   "cell_type": "code",
   "execution_count": null,
   "metadata": {
    "ExecuteTime": {
     "end_time": "2021-06-27T23:36:36.067664Z",
     "start_time": "2021-06-27T23:36:36.056072Z"
    }
   },
   "outputs": [],
   "source": [
    "if save_logs:\n",
    "    save_log_dir = os.path.join(save_log_root, current_model_name)\n",
    "    save_log_path = os.path.join(save_log_dir, f'{split_number}.npy')\n",
    "    os.makedirs(save_log_dir, exist_ok=True)\n",
    "    np.save(save_log_path,corr_stats)"
   ]
  },
  {
   "cell_type": "code",
   "execution_count": null,
   "metadata": {
    "ExecuteTime": {
     "end_time": "2021-06-27T23:36:36.078607Z",
     "start_time": "2021-06-27T23:36:36.068580Z"
    }
   },
   "outputs": [],
   "source": [
    "if save_models:\n",
    "    os.makedirs(save_dir, exist_ok=True)\n",
    "    net.save_model(save_path)"
   ]
  },
  {
   "cell_type": "markdown",
   "metadata": {},
   "source": [
    "# Combine Stats"
   ]
  },
  {
   "cell_type": "code",
   "execution_count": null,
   "metadata": {
    "ExecuteTime": {
     "end_time": "2021-06-27T23:36:36.090448Z",
     "start_time": "2021-06-27T23:36:36.079554Z"
    },
    "scrolled": true
   },
   "outputs": [],
   "source": [
    "df_stats = pd.DataFrame(dict_stats)"
   ]
  },
  {
   "cell_type": "code",
   "execution_count": null,
   "metadata": {
    "ExecuteTime": {
     "end_time": "2021-06-27T23:36:36.116711Z",
     "start_time": "2021-06-27T23:36:36.091383Z"
    }
   },
   "outputs": [],
   "source": [
    "df_stats"
   ]
  }
 ],
 "metadata": {
  "kernelspec": {
   "display_name": "Python 3",
   "language": "python",
   "name": "python3"
  },
  "language_info": {
   "codemirror_mode": {
    "name": "ipython",
    "version": 3
   },
   "file_extension": ".py",
   "mimetype": "text/x-python",
   "name": "python",
   "nbconvert_exporter": "python",
   "pygments_lexer": "ipython3",
   "version": "3.7.3"
  },
  "toc": {
   "base_numbering": 1,
   "nav_menu": {},
   "number_sections": true,
   "sideBar": true,
   "skip_h1_title": false,
   "title_cell": "Table of Contents",
   "title_sidebar": "Contents",
   "toc_cell": false,
   "toc_position": {
    "height": "calc(100% - 180px)",
    "left": "10px",
    "top": "150px",
    "width": "276px"
   },
   "toc_section_display": true,
   "toc_window_display": true
  },
  "varInspector": {
   "cols": {
    "lenName": 16,
    "lenType": 16,
    "lenVar": 40
   },
   "kernels_config": {
    "python": {
     "delete_cmd_postfix": "",
     "delete_cmd_prefix": "del ",
     "library": "var_list.py",
     "varRefreshCmd": "print(var_dic_list())"
    },
    "r": {
     "delete_cmd_postfix": ") ",
     "delete_cmd_prefix": "rm(",
     "library": "var_list.r",
     "varRefreshCmd": "cat(var_dic_list()) "
    }
   },
   "types_to_exclude": [
    "module",
    "function",
    "builtin_function_or_method",
    "instance",
    "_Feature"
   ],
   "window_display": false
  }
 },
 "nbformat": 4,
 "nbformat_minor": 2
}
