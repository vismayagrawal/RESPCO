{
 "cells": [
  {
   "cell_type": "code",
   "execution_count": null,
   "metadata": {
    "ExecuteTime": {
     "end_time": "2021-06-27T23:08:47.363184Z",
     "start_time": "2021-06-27T23:08:47.345921Z"
    }
   },
   "outputs": [],
   "source": [
    "%load_ext autoreload\n",
    "%autoreload 2"
   ]
  },
  {
   "cell_type": "code",
   "execution_count": null,
   "metadata": {
    "ExecuteTime": {
     "end_time": "2021-06-27T23:09:09.680758Z",
     "start_time": "2021-06-27T23:09:09.663128Z"
    }
   },
   "outputs": [],
   "source": [
    "%cd /home/vagrawal/RVT-CO2/code"
   ]
  },
  {
   "cell_type": "code",
   "execution_count": null,
   "metadata": {
    "ExecuteTime": {
     "end_time": "2021-06-27T23:09:10.499139Z",
     "start_time": "2021-06-27T23:09:09.857748Z"
    }
   },
   "outputs": [],
   "source": [
    "import os\n",
    "import numpy as np\n",
    "import pandas as pd\n",
    "\n",
    "import torch\n",
    "from torch.utils.data import DataLoader\n",
    "from torchsummary import summary\n",
    "from models import *\n",
    "from datasets import resp_co2_dataset\n",
    "import seaborn as sns\n",
    "\n",
    "from train_utils import Trainer\n",
    "import utils"
   ]
  },
  {
   "cell_type": "code",
   "execution_count": null,
   "metadata": {
    "cell_style": "split",
    "deletable": false,
    "editable": false,
    "run_control": {
     "frozen": true
    }
   },
   "outputs": [],
   "source": [
    "%matplotlib notebook\n",
    "plt.rcParams[\"figure.figsize\"] = [9,4]"
   ]
  },
  {
   "cell_type": "code",
   "execution_count": null,
   "metadata": {
    "ExecuteTime": {
     "end_time": "2021-06-27T23:09:10.569518Z",
     "start_time": "2021-06-27T23:09:10.553098Z"
    },
    "cell_style": "split"
   },
   "outputs": [],
   "source": [
    "%matplotlib inline\n",
    "plt.rcParams[\"figure.figsize\"] = [16,4]"
   ]
  },
  {
   "cell_type": "code",
   "execution_count": null,
   "metadata": {
    "ExecuteTime": {
     "end_time": "2021-06-27T23:09:10.719954Z",
     "start_time": "2021-06-27T23:09:10.701415Z"
    }
   },
   "outputs": [],
   "source": [
    "def stats_bean_plot(corr_stats):\n",
    "    corr_stats_copy = corr_stats.copy()    \n",
    "    del corr_stats_copy['mape_co2'], corr_stats_copy['z_co2'], corr_stats_copy['z_petco2']\n",
    "    df_stats = pd.DataFrame.from_dict(corr_stats_copy)\n",
    "    sns.violinplot(data = pd.DataFrame.from_dict(corr_stats_copy))"
   ]
  },
  {
   "cell_type": "code",
   "execution_count": null,
   "metadata": {
    "ExecuteTime": {
     "end_time": "2021-06-27T23:09:57.830591Z",
     "start_time": "2021-06-27T23:09:57.803897Z"
    }
   },
   "outputs": [],
   "source": [
    "dict_stats = {\"split_and_model_name\": [],\n",
    "                \"mean_corr_co2\" : [],\n",
    "                \"mean_corr_petco2\" : [],\n",
    "                \"mean_z_co2\" : [],\n",
    "                \"mean_z_petco2\" : [],\n",
    "                \"mean_mse_co2\" : [],\n",
    "                \"mean_mse_petco2\" : [],\n",
    "                \"mean_mae_co2\" : [],\n",
    "                \"mean_mae_petco2\" : [],\n",
    "                \"mean_mape_co2\" : [],\n",
    "                \"mean_mape_petco2\" : [],\n",
    "                \"std_corr_co2\" : [],\n",
    "                \"std_corr_petco2\" : [],\n",
    "                \"std_z_co2\" : [],\n",
    "                \"std_z_petco2\" : [],\n",
    "                \"std_mse_co2\" : [],\n",
    "                \"std_mse_petco2\" : [],\n",
    "                \"std_mae_co2\" : [],\n",
    "                \"std_mae_petco2\" : [],\n",
    "                \"std_mape_co2\" : [],\n",
    "                \"std_mape_petco2\" : [],}\n",
    "\n",
    "def add_mean_std_stats(current_model_name, corr_stats):\n",
    "    current_split_and_model_name = str(data_split_number) + '-' + current_model_name\n",
    "    if current_split_and_model_name not in dict_stats[f\"split_and_model_name\"]:\n",
    "        dict_stats[\"split_and_model_name\"].append(current_split_and_model_name) \n",
    "        for key, value in corr_stats.items():\n",
    "            dict_stats[f'mean_{key}'].append(round(np.mean(value), 3)) \n",
    "            dict_stats[f'std_{key}'].append(round(np.std(value), 3))"
   ]
  },
  {
   "cell_type": "code",
   "execution_count": null,
   "metadata": {
    "ExecuteTime": {
     "end_time": "2021-06-27T23:09:58.427862Z",
     "start_time": "2021-06-27T23:09:58.401089Z"
    }
   },
   "outputs": [],
   "source": [
    "dict_models = {\n",
    "    'linear_without_tanh': linear_without_tanh(in_channels=1, out_channels=1),\n",
    "    'linear_with_tanh': linear_with_tanh(in_channels=1, out_channels=1),\n",
    "    'conv_1_layer': conv_1_layer(in_channels=1, out_channels=1),\n",
    "    'conv_2_layer': conv_2_layer(in_channels=1, out_channels=1),\n",
    "    'conv_4_layer': conv_4_layer(in_channels=1, out_channels=1),\n",
    "    'conv_6_layer': conv_6_layer(in_channels=1, out_channels=1),\n",
    "    'conv_1_layer_weightedLoss': conv_1_layer(in_channels=1, out_channels=1),\n",
    "    'conv_2_layer_weightedLoss': conv_2_layer(in_channels=1, out_channels=1),\n",
    "    'conv_4_layer_weightedLoss': conv_4_layer(in_channels=1, out_channels=1),\n",
    "    'conv_6_layer_weightedLoss': conv_6_layer(in_channels=1, out_channels=1),\n",
    "}"
   ]
  },
  {
   "cell_type": "code",
   "execution_count": null,
   "metadata": {
    "ExecuteTime": {
     "end_time": "2021-06-27T23:09:58.771919Z",
     "start_time": "2021-06-27T23:09:58.756098Z"
    }
   },
   "outputs": [],
   "source": [
    "baycrest_root = '/home/vagrawal/RVT-CO2/data/raw_physio_backup-biopac-20180417/preprocessed'\n",
    "apply_co2_norm = True"
   ]
  },
  {
   "cell_type": "code",
   "execution_count": null,
   "metadata": {
    "ExecuteTime": {
     "end_time": "2021-06-27T23:09:59.083187Z",
     "start_time": "2021-06-27T23:09:59.061800Z"
    }
   },
   "outputs": [],
   "source": [
    "# Config\n",
    "train_models = False\n",
    "save_models = False\n",
    "save_logs = False\n",
    "load_models = True\n",
    "phases_test = ['test']\n",
    "\n",
    "date = '20201011'\n",
    "save_root = os.path.join('./saved_models', date)"
   ]
  },
  {
   "cell_type": "code",
   "execution_count": null,
   "metadata": {
    "ExecuteTime": {
     "end_time": "2021-06-27T23:10:43.655025Z",
     "start_time": "2021-06-27T23:09:59.421042Z"
    },
    "scrolled": true
   },
   "outputs": [],
   "source": [
    "for data_split_number in [0,1,2,3,4]:\n",
    "    txt_root = os.path.join(baycrest_root, 'splits_train_test', str(data_split_number))\n",
    "    dataloader_train = resp_co2_dataset(txt_root, resp_filename = 'resp_train.txt', co2_filename = 'co2_train.txt',apply_co2_norm=apply_co2_norm)\n",
    "    dataloader_test = resp_co2_dataset(txt_root, resp_filename = 'resp_test.txt', co2_filename = 'co2_test.txt',apply_co2_norm=apply_co2_norm)\n",
    "\n",
    "    dataloaders = {\n",
    "        'train':DataLoader(dataloader_train, batch_size=1, shuffle=False),\n",
    "        'test':DataLoader(dataloader_test, batch_size=1, shuffle=False),\n",
    "    }\n",
    "    \n",
    "    split_number = data_split_number\n",
    "    for current_model_name in dict_models.keys():\n",
    "\n",
    "        current_model = dict_models[current_model_name]\n",
    "        save_dir = os.path.join(save_root, current_model_name)\n",
    "        save_path = os.path.join(save_dir, f'{split_number}.pth.gz')\n",
    "        \n",
    "        optimizer_lr = 0.01\n",
    "        net = Trainer(current_model, dataloaders, optimizer_lr)\n",
    "        net.load_model(save_path)  \n",
    "        corr_stats = net.nnTest(phases = phases_test, plots=False, output_smoothing=True, output_stdnorm = False)\n",
    "        add_mean_std_stats(current_model_name, corr_stats)"
   ]
  },
  {
   "cell_type": "code",
   "execution_count": null,
   "metadata": {
    "ExecuteTime": {
     "end_time": "2021-06-27T23:10:43.719604Z",
     "start_time": "2021-06-27T23:10:43.709088Z"
    }
   },
   "outputs": [],
   "source": [
    "df_stats = pd.DataFrame(dict_stats)"
   ]
  },
  {
   "cell_type": "code",
   "execution_count": null,
   "metadata": {
    "ExecuteTime": {
     "end_time": "2021-06-28T00:53:57.739358Z",
     "start_time": "2021-06-28T00:53:57.678125Z"
    },
    "scrolled": true
   },
   "outputs": [],
   "source": [
    "df_stats"
   ]
  },
  {
   "cell_type": "code",
   "execution_count": null,
   "metadata": {
    "ExecuteTime": {
     "end_time": "2021-06-28T00:55:44.160939Z",
     "start_time": "2021-06-28T00:55:44.137149Z"
    }
   },
   "outputs": [],
   "source": [
    "df_stats.to_csv(f'saved_logs/manuscript/{date}_train.csv')"
   ]
  }
 ],
 "metadata": {
  "kernelspec": {
   "display_name": "Python 3",
   "language": "python",
   "name": "python3"
  },
  "language_info": {
   "codemirror_mode": {
    "name": "ipython",
    "version": 3
   },
   "file_extension": ".py",
   "mimetype": "text/x-python",
   "name": "python",
   "nbconvert_exporter": "python",
   "pygments_lexer": "ipython3",
   "version": "3.7.3"
  },
  "toc": {
   "base_numbering": 1,
   "nav_menu": {},
   "number_sections": true,
   "sideBar": true,
   "skip_h1_title": false,
   "title_cell": "Table of Contents",
   "title_sidebar": "Contents",
   "toc_cell": false,
   "toc_position": {
    "height": "calc(100% - 180px)",
    "left": "10px",
    "top": "150px",
    "width": "276px"
   },
   "toc_section_display": true,
   "toc_window_display": true
  },
  "varInspector": {
   "cols": {
    "lenName": 16,
    "lenType": 16,
    "lenVar": 40
   },
   "kernels_config": {
    "python": {
     "delete_cmd_postfix": "",
     "delete_cmd_prefix": "del ",
     "library": "var_list.py",
     "varRefreshCmd": "print(var_dic_list())"
    },
    "r": {
     "delete_cmd_postfix": ") ",
     "delete_cmd_prefix": "rm(",
     "library": "var_list.r",
     "varRefreshCmd": "cat(var_dic_list()) "
    }
   },
   "types_to_exclude": [
    "module",
    "function",
    "builtin_function_or_method",
    "instance",
    "_Feature"
   ],
   "window_display": false
  }
 },
 "nbformat": 4,
 "nbformat_minor": 2
}
